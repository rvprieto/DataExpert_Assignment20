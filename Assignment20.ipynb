{
  "nbformat": 4,
  "nbformat_minor": 0,
  "metadata": {
    "colab": {
      "name": "Assignment20.ipynb",
      "provenance": [],
      "collapsed_sections": [
        "i_T9ueiqrYdm"
      ],
      "authorship_tag": "ABX9TyO6/6khORdipYwWu6mIQFEM",
      "include_colab_link": true
    },
    "kernelspec": {
      "name": "python3",
      "display_name": "Python 3"
    },
    "language_info": {
      "name": "python"
    },
    "widgets": {
      "application/vnd.jupyter.widget-state+json": {
        "99e9544d0f7b4ce284777771047af6fa": {
          "model_module": "@jupyter-widgets/controls",
          "model_name": "HBoxModel",
          "model_module_version": "1.5.0",
          "state": {
            "_view_name": "HBoxView",
            "_dom_classes": [],
            "_model_name": "HBoxModel",
            "_view_module": "@jupyter-widgets/controls",
            "_model_module_version": "1.5.0",
            "_view_count": null,
            "_view_module_version": "1.5.0",
            "box_style": "",
            "layout": "IPY_MODEL_ff34f3ec8693461e81eb2820922a40f5",
            "_model_module": "@jupyter-widgets/controls",
            "children": [
              "IPY_MODEL_3edea2a9990a41bd89a425f25cbcaadc",
              "IPY_MODEL_c2c23dfcb3c14189ace1126d3d1bd9a0",
              "IPY_MODEL_610a3b5989954a5bb477710a717b83a4"
            ]
          }
        },
        "ff34f3ec8693461e81eb2820922a40f5": {
          "model_module": "@jupyter-widgets/base",
          "model_name": "LayoutModel",
          "model_module_version": "1.2.0",
          "state": {
            "_view_name": "LayoutView",
            "grid_template_rows": null,
            "right": null,
            "justify_content": null,
            "_view_module": "@jupyter-widgets/base",
            "overflow": null,
            "_model_module_version": "1.2.0",
            "_view_count": null,
            "flex_flow": null,
            "width": null,
            "min_width": null,
            "border": null,
            "align_items": null,
            "bottom": null,
            "_model_module": "@jupyter-widgets/base",
            "top": null,
            "grid_column": null,
            "overflow_y": null,
            "overflow_x": null,
            "grid_auto_flow": null,
            "grid_area": null,
            "grid_template_columns": null,
            "flex": null,
            "_model_name": "LayoutModel",
            "justify_items": null,
            "grid_row": null,
            "max_height": null,
            "align_content": null,
            "visibility": null,
            "align_self": null,
            "height": null,
            "min_height": null,
            "padding": null,
            "grid_auto_rows": null,
            "grid_gap": null,
            "max_width": null,
            "order": null,
            "_view_module_version": "1.2.0",
            "grid_template_areas": null,
            "object_position": null,
            "object_fit": null,
            "grid_auto_columns": null,
            "margin": null,
            "display": null,
            "left": null
          }
        },
        "3edea2a9990a41bd89a425f25cbcaadc": {
          "model_module": "@jupyter-widgets/controls",
          "model_name": "HTMLModel",
          "model_module_version": "1.5.0",
          "state": {
            "_view_name": "HTMLView",
            "style": "IPY_MODEL_c80a6ca12fa540bf832924a202946491",
            "_dom_classes": [],
            "description": "",
            "_model_name": "HTMLModel",
            "placeholder": "​",
            "_view_module": "@jupyter-widgets/controls",
            "_model_module_version": "1.5.0",
            "value": "Optimization Progress: ",
            "_view_count": null,
            "_view_module_version": "1.5.0",
            "description_tooltip": null,
            "_model_module": "@jupyter-widgets/controls",
            "layout": "IPY_MODEL_04515b01c43a402f827815d0de854ae9"
          }
        },
        "c2c23dfcb3c14189ace1126d3d1bd9a0": {
          "model_module": "@jupyter-widgets/controls",
          "model_name": "FloatProgressModel",
          "model_module_version": "1.5.0",
          "state": {
            "_view_name": "ProgressView",
            "style": "IPY_MODEL_3acb8747bc1449ce8e5824511e6ca4b2",
            "_dom_classes": [],
            "description": "",
            "_model_name": "FloatProgressModel",
            "bar_style": "",
            "max": 9,
            "_view_module": "@jupyter-widgets/controls",
            "_model_module_version": "1.5.0",
            "value": 9,
            "_view_count": null,
            "_view_module_version": "1.5.0",
            "orientation": "horizontal",
            "min": 0,
            "description_tooltip": null,
            "_model_module": "@jupyter-widgets/controls",
            "layout": "IPY_MODEL_b6c632059784459bb9ee84890029af18"
          }
        },
        "610a3b5989954a5bb477710a717b83a4": {
          "model_module": "@jupyter-widgets/controls",
          "model_name": "HTMLModel",
          "model_module_version": "1.5.0",
          "state": {
            "_view_name": "HTMLView",
            "style": "IPY_MODEL_6664ce3dd2fc4e15a2fdcf293af2e76d",
            "_dom_classes": [],
            "description": "",
            "_model_name": "HTMLModel",
            "placeholder": "​",
            "_view_module": "@jupyter-widgets/controls",
            "_model_module_version": "1.5.0",
            "value": " 10/? [15:54&lt;00:00, 63.20s/pipeline]",
            "_view_count": null,
            "_view_module_version": "1.5.0",
            "description_tooltip": null,
            "_model_module": "@jupyter-widgets/controls",
            "layout": "IPY_MODEL_dc408319b4144cd589993f22cbf74c14"
          }
        },
        "c80a6ca12fa540bf832924a202946491": {
          "model_module": "@jupyter-widgets/controls",
          "model_name": "DescriptionStyleModel",
          "model_module_version": "1.5.0",
          "state": {
            "_view_name": "StyleView",
            "_model_name": "DescriptionStyleModel",
            "description_width": "",
            "_view_module": "@jupyter-widgets/base",
            "_model_module_version": "1.5.0",
            "_view_count": null,
            "_view_module_version": "1.2.0",
            "_model_module": "@jupyter-widgets/controls"
          }
        },
        "04515b01c43a402f827815d0de854ae9": {
          "model_module": "@jupyter-widgets/base",
          "model_name": "LayoutModel",
          "model_module_version": "1.2.0",
          "state": {
            "_view_name": "LayoutView",
            "grid_template_rows": null,
            "right": null,
            "justify_content": null,
            "_view_module": "@jupyter-widgets/base",
            "overflow": null,
            "_model_module_version": "1.2.0",
            "_view_count": null,
            "flex_flow": null,
            "width": null,
            "min_width": null,
            "border": null,
            "align_items": null,
            "bottom": null,
            "_model_module": "@jupyter-widgets/base",
            "top": null,
            "grid_column": null,
            "overflow_y": null,
            "overflow_x": null,
            "grid_auto_flow": null,
            "grid_area": null,
            "grid_template_columns": null,
            "flex": null,
            "_model_name": "LayoutModel",
            "justify_items": null,
            "grid_row": null,
            "max_height": null,
            "align_content": null,
            "visibility": null,
            "align_self": null,
            "height": null,
            "min_height": null,
            "padding": null,
            "grid_auto_rows": null,
            "grid_gap": null,
            "max_width": null,
            "order": null,
            "_view_module_version": "1.2.0",
            "grid_template_areas": null,
            "object_position": null,
            "object_fit": null,
            "grid_auto_columns": null,
            "margin": null,
            "display": null,
            "left": null
          }
        },
        "3acb8747bc1449ce8e5824511e6ca4b2": {
          "model_module": "@jupyter-widgets/controls",
          "model_name": "ProgressStyleModel",
          "model_module_version": "1.5.0",
          "state": {
            "_view_name": "StyleView",
            "_model_name": "ProgressStyleModel",
            "description_width": "",
            "_view_module": "@jupyter-widgets/base",
            "_model_module_version": "1.5.0",
            "_view_count": null,
            "_view_module_version": "1.2.0",
            "bar_color": null,
            "_model_module": "@jupyter-widgets/controls"
          }
        },
        "b6c632059784459bb9ee84890029af18": {
          "model_module": "@jupyter-widgets/base",
          "model_name": "LayoutModel",
          "model_module_version": "1.2.0",
          "state": {
            "_view_name": "LayoutView",
            "grid_template_rows": null,
            "right": null,
            "justify_content": null,
            "_view_module": "@jupyter-widgets/base",
            "overflow": null,
            "_model_module_version": "1.2.0",
            "_view_count": null,
            "flex_flow": null,
            "width": null,
            "min_width": null,
            "border": null,
            "align_items": null,
            "bottom": null,
            "_model_module": "@jupyter-widgets/base",
            "top": null,
            "grid_column": null,
            "overflow_y": null,
            "overflow_x": null,
            "grid_auto_flow": null,
            "grid_area": null,
            "grid_template_columns": null,
            "flex": null,
            "_model_name": "LayoutModel",
            "justify_items": null,
            "grid_row": null,
            "max_height": null,
            "align_content": null,
            "visibility": null,
            "align_self": null,
            "height": null,
            "min_height": null,
            "padding": null,
            "grid_auto_rows": null,
            "grid_gap": null,
            "max_width": null,
            "order": null,
            "_view_module_version": "1.2.0",
            "grid_template_areas": null,
            "object_position": null,
            "object_fit": null,
            "grid_auto_columns": null,
            "margin": null,
            "display": null,
            "left": null
          }
        },
        "6664ce3dd2fc4e15a2fdcf293af2e76d": {
          "model_module": "@jupyter-widgets/controls",
          "model_name": "DescriptionStyleModel",
          "model_module_version": "1.5.0",
          "state": {
            "_view_name": "StyleView",
            "_model_name": "DescriptionStyleModel",
            "description_width": "",
            "_view_module": "@jupyter-widgets/base",
            "_model_module_version": "1.5.0",
            "_view_count": null,
            "_view_module_version": "1.2.0",
            "_model_module": "@jupyter-widgets/controls"
          }
        },
        "dc408319b4144cd589993f22cbf74c14": {
          "model_module": "@jupyter-widgets/base",
          "model_name": "LayoutModel",
          "model_module_version": "1.2.0",
          "state": {
            "_view_name": "LayoutView",
            "grid_template_rows": null,
            "right": null,
            "justify_content": null,
            "_view_module": "@jupyter-widgets/base",
            "overflow": null,
            "_model_module_version": "1.2.0",
            "_view_count": null,
            "flex_flow": null,
            "width": null,
            "min_width": null,
            "border": null,
            "align_items": null,
            "bottom": null,
            "_model_module": "@jupyter-widgets/base",
            "top": null,
            "grid_column": null,
            "overflow_y": null,
            "overflow_x": null,
            "grid_auto_flow": null,
            "grid_area": null,
            "grid_template_columns": null,
            "flex": null,
            "_model_name": "LayoutModel",
            "justify_items": null,
            "grid_row": null,
            "max_height": null,
            "align_content": null,
            "visibility": null,
            "align_self": null,
            "height": null,
            "min_height": null,
            "padding": null,
            "grid_auto_rows": null,
            "grid_gap": null,
            "max_width": null,
            "order": null,
            "_view_module_version": "1.2.0",
            "grid_template_areas": null,
            "object_position": null,
            "object_fit": null,
            "grid_auto_columns": null,
            "margin": null,
            "display": null,
            "left": null
          }
        }
      }
    }
  },
  "cells": [
    {
      "cell_type": "markdown",
      "metadata": {
        "id": "view-in-github",
        "colab_type": "text"
      },
      "source": [
        "<a href=\"https://colab.research.google.com/github/rvprieto/DataExpert_Assignment20/blob/main/Assignment20.ipynb\" target=\"_parent\"><img src=\"https://colab.research.google.com/assets/colab-badge.svg\" alt=\"Open In Colab\"/></a>"
      ]
    },
    {
      "cell_type": "markdown",
      "metadata": {
        "id": "oju6mA1ak0hN"
      },
      "source": [
        "#Bibliotecas"
      ]
    },
    {
      "cell_type": "code",
      "source": [
        "!pip install tpot"
      ],
      "metadata": {
        "colab": {
          "base_uri": "https://localhost:8080/"
        },
        "id": "tDQNMdDvOnKh",
        "outputId": "a65f4f39-3ab5-4612-94de-22cb88ba03cf"
      },
      "execution_count": 1,
      "outputs": [
        {
          "output_type": "stream",
          "name": "stdout",
          "text": [
            "Requirement already satisfied: tpot in /usr/local/lib/python3.7/dist-packages (0.11.7)\n",
            "Requirement already satisfied: numpy>=1.16.3 in /usr/local/lib/python3.7/dist-packages (from tpot) (1.19.5)\n",
            "Requirement already satisfied: deap>=1.2 in /usr/local/lib/python3.7/dist-packages (from tpot) (1.3.1)\n",
            "Requirement already satisfied: xgboost>=1.1.0 in /usr/local/lib/python3.7/dist-packages (from tpot) (1.5.1)\n",
            "Requirement already satisfied: scipy>=1.3.1 in /usr/local/lib/python3.7/dist-packages (from tpot) (1.4.1)\n",
            "Requirement already satisfied: tqdm>=4.36.1 in /usr/local/lib/python3.7/dist-packages (from tpot) (4.62.3)\n",
            "Requirement already satisfied: update-checker>=0.16 in /usr/local/lib/python3.7/dist-packages (from tpot) (0.18.0)\n",
            "Requirement already satisfied: joblib>=0.13.2 in /usr/local/lib/python3.7/dist-packages (from tpot) (1.1.0)\n",
            "Requirement already satisfied: pandas>=0.24.2 in /usr/local/lib/python3.7/dist-packages (from tpot) (1.1.5)\n",
            "Requirement already satisfied: stopit>=1.1.1 in /usr/local/lib/python3.7/dist-packages (from tpot) (1.1.2)\n",
            "Requirement already satisfied: scikit-learn>=0.22.0 in /usr/local/lib/python3.7/dist-packages (from tpot) (1.0.1)\n",
            "Requirement already satisfied: pytz>=2017.2 in /usr/local/lib/python3.7/dist-packages (from pandas>=0.24.2->tpot) (2018.9)\n",
            "Requirement already satisfied: python-dateutil>=2.7.3 in /usr/local/lib/python3.7/dist-packages (from pandas>=0.24.2->tpot) (2.8.2)\n",
            "Requirement already satisfied: six>=1.5 in /usr/local/lib/python3.7/dist-packages (from python-dateutil>=2.7.3->pandas>=0.24.2->tpot) (1.15.0)\n",
            "Requirement already satisfied: threadpoolctl>=2.0.0 in /usr/local/lib/python3.7/dist-packages (from scikit-learn>=0.22.0->tpot) (3.0.0)\n",
            "Requirement already satisfied: requests>=2.3.0 in /usr/local/lib/python3.7/dist-packages (from update-checker>=0.16->tpot) (2.23.0)\n",
            "Requirement already satisfied: chardet<4,>=3.0.2 in /usr/local/lib/python3.7/dist-packages (from requests>=2.3.0->update-checker>=0.16->tpot) (3.0.4)\n",
            "Requirement already satisfied: certifi>=2017.4.17 in /usr/local/lib/python3.7/dist-packages (from requests>=2.3.0->update-checker>=0.16->tpot) (2021.10.8)\n",
            "Requirement already satisfied: idna<3,>=2.5 in /usr/local/lib/python3.7/dist-packages (from requests>=2.3.0->update-checker>=0.16->tpot) (2.10)\n",
            "Requirement already satisfied: urllib3!=1.25.0,!=1.25.1,<1.26,>=1.21.1 in /usr/local/lib/python3.7/dist-packages (from requests>=2.3.0->update-checker>=0.16->tpot) (1.24.3)\n"
          ]
        }
      ]
    },
    {
      "cell_type": "code",
      "metadata": {
        "id": "wb-FkcOPgFvY"
      },
      "source": [
        "import numpy as np\n",
        "import pandas as pd\n",
        "import json\n",
        "import seaborn as sns\n",
        "import matplotlib.pyplot as plt\n",
        "\n",
        "from tpot import TPOTClassifier\n",
        "\n",
        "from sklearn.preprocessing import OrdinalEncoder\n",
        "from sklearn.model_selection import train_test_split\n",
        "from imblearn.under_sampling import RandomUnderSampler\n",
        "from sklearn.metrics.pairwise import cosine_similarity\n",
        "\n",
        "# ***Tirar Warning***\n",
        "import warnings\n",
        "warnings.filterwarnings('ignore')"
      ],
      "execution_count": 2,
      "outputs": []
    },
    {
      "cell_type": "code",
      "metadata": {
        "colab": {
          "base_uri": "https://localhost:8080/"
        },
        "id": "tvbOEcrbnKDd",
        "outputId": "b2d873ac-7dbf-4774-875d-e79bfd5351e0"
      },
      "source": [
        "from google.colab import drive\n",
        "drive.mount('/content/drive')"
      ],
      "execution_count": 3,
      "outputs": [
        {
          "output_type": "stream",
          "name": "stdout",
          "text": [
            "Drive already mounted at /content/drive; to attempt to forcibly remount, call drive.mount(\"/content/drive\", force_remount=True).\n"
          ]
        }
      ]
    },
    {
      "cell_type": "markdown",
      "metadata": {
        "id": "HY4jSUGRk6sD"
      },
      "source": [
        "#Arquivos Json"
      ]
    },
    {
      "cell_type": "code",
      "metadata": {
        "id": "1Mu4vPG8k6Ic"
      },
      "source": [
        "df_VideoSample = pd.read_json('/content/drive/MyDrive/DataExpert/Assignment20/Video_Games_sample.json', lines=True, orient='lines')\n",
        "\n",
        "df_MetaVideo = pd.read_json('/content/drive/MyDrive/DataExpert/Assignment20/meta_Video_Games.json.gz', lines=True,  orient='lines')"
      ],
      "execution_count": 4,
      "outputs": []
    },
    {
      "cell_type": "markdown",
      "metadata": {
        "id": "4I9_eC0JrTV2"
      },
      "source": [
        "#Explorando df_VideoSample"
      ]
    },
    {
      "cell_type": "code",
      "metadata": {
        "colab": {
          "base_uri": "https://localhost:8080/",
          "height": 414
        },
        "id": "XDGL7yJYpVNd",
        "outputId": "b005a572-3a7e-419d-bf25-990537af493c"
      },
      "source": [
        "df_VideoSample.sample(5)"
      ],
      "execution_count": 5,
      "outputs": [
        {
          "output_type": "execute_result",
          "data": {
            "text/html": [
              "<div>\n",
              "<style scoped>\n",
              "    .dataframe tbody tr th:only-of-type {\n",
              "        vertical-align: middle;\n",
              "    }\n",
              "\n",
              "    .dataframe tbody tr th {\n",
              "        vertical-align: top;\n",
              "    }\n",
              "\n",
              "    .dataframe thead th {\n",
              "        text-align: right;\n",
              "    }\n",
              "</style>\n",
              "<table border=\"1\" class=\"dataframe\">\n",
              "  <thead>\n",
              "    <tr style=\"text-align: right;\">\n",
              "      <th></th>\n",
              "      <th>overall</th>\n",
              "      <th>reviewTime</th>\n",
              "      <th>reviewerID</th>\n",
              "      <th>asin</th>\n",
              "      <th>style</th>\n",
              "      <th>reviewerName</th>\n",
              "      <th>reviewText</th>\n",
              "      <th>summary</th>\n",
              "      <th>unixReviewTime</th>\n",
              "      <th>verified</th>\n",
              "      <th>vote</th>\n",
              "      <th>image</th>\n",
              "    </tr>\n",
              "  </thead>\n",
              "  <tbody>\n",
              "    <tr>\n",
              "      <th>311336</th>\n",
              "      <td>5</td>\n",
              "      <td>12 15, 2015</td>\n",
              "      <td>AE5YV3J4FWHT2</td>\n",
              "      <td>B00IAVDOS6</td>\n",
              "      <td>NaN</td>\n",
              "      <td>brooklyn boy</td>\n",
              "      <td>works great bought 2 of them</td>\n",
              "      <td>Five Stars</td>\n",
              "      <td>1450137600</td>\n",
              "      <td>1.0</td>\n",
              "      <td>NaN</td>\n",
              "      <td>NaN</td>\n",
              "    </tr>\n",
              "    <tr>\n",
              "      <th>77940</th>\n",
              "      <td>5</td>\n",
              "      <td>05 31, 2011</td>\n",
              "      <td>A3FVD7M6QWPBP3</td>\n",
              "      <td>B00111SFEU</td>\n",
              "      <td>NaN</td>\n",
              "      <td>Rambo</td>\n",
              "      <td>I could not be happier with my new headset.. G...</td>\n",
              "      <td>PERFECT!!!</td>\n",
              "      <td>1306800000</td>\n",
              "      <td>1.0</td>\n",
              "      <td>NaN</td>\n",
              "      <td>NaN</td>\n",
              "    </tr>\n",
              "    <tr>\n",
              "      <th>154553</th>\n",
              "      <td>5</td>\n",
              "      <td>12 3, 2012</td>\n",
              "      <td>A1PPTUIKPC6M5U</td>\n",
              "      <td>B0050SYX8W</td>\n",
              "      <td>{'Format:': ' Video Game'}</td>\n",
              "      <td>Dylan J. Marquis</td>\n",
              "      <td>It's Halo...need I say more? There are so many...</td>\n",
              "      <td>The best one yet.</td>\n",
              "      <td>1354492800</td>\n",
              "      <td>NaN</td>\n",
              "      <td>NaN</td>\n",
              "      <td>NaN</td>\n",
              "    </tr>\n",
              "    <tr>\n",
              "      <th>284695</th>\n",
              "      <td>5</td>\n",
              "      <td>03 29, 2014</td>\n",
              "      <td>A3CR798N9GRIP6</td>\n",
              "      <td>B00F27JGVA</td>\n",
              "      <td>NaN</td>\n",
              "      <td>Luis</td>\n",
              "      <td>this is the best choice so far on memory for t...</td>\n",
              "      <td>I recomended</td>\n",
              "      <td>1396051200</td>\n",
              "      <td>1.0</td>\n",
              "      <td>NaN</td>\n",
              "      <td>NaN</td>\n",
              "    </tr>\n",
              "    <tr>\n",
              "      <th>267355</th>\n",
              "      <td>4</td>\n",
              "      <td>02 2, 2016</td>\n",
              "      <td>A3VAAGZKS0R5TD</td>\n",
              "      <td>B00E290JRE</td>\n",
              "      <td>{'Color:': ' Black'}</td>\n",
              "      <td>Amazon Customer</td>\n",
              "      <td>Great for the price.</td>\n",
              "      <td>Four Stars</td>\n",
              "      <td>1454371200</td>\n",
              "      <td>1.0</td>\n",
              "      <td>NaN</td>\n",
              "      <td>NaN</td>\n",
              "    </tr>\n",
              "  </tbody>\n",
              "</table>\n",
              "</div>"
            ],
            "text/plain": [
              "        overall   reviewTime      reviewerID  ... verified vote image\n",
              "311336        5  12 15, 2015   AE5YV3J4FWHT2  ...      1.0  NaN   NaN\n",
              "77940         5  05 31, 2011  A3FVD7M6QWPBP3  ...      1.0  NaN   NaN\n",
              "154553        5   12 3, 2012  A1PPTUIKPC6M5U  ...      NaN  NaN   NaN\n",
              "284695        5  03 29, 2014  A3CR798N9GRIP6  ...      1.0  NaN   NaN\n",
              "267355        4   02 2, 2016  A3VAAGZKS0R5TD  ...      1.0  NaN   NaN\n",
              "\n",
              "[5 rows x 12 columns]"
            ]
          },
          "metadata": {},
          "execution_count": 5
        }
      ]
    },
    {
      "cell_type": "code",
      "metadata": {
        "colab": {
          "base_uri": "https://localhost:8080/"
        },
        "id": "pu6_L4aZrgL-",
        "outputId": "87f5c58b-cce8-41d0-c7ff-fd58c8d2186d"
      },
      "source": [
        "df_VideoSample.shape"
      ],
      "execution_count": 6,
      "outputs": [
        {
          "output_type": "execute_result",
          "data": {
            "text/plain": [
              "(453562, 12)"
            ]
          },
          "metadata": {},
          "execution_count": 6
        }
      ]
    },
    {
      "cell_type": "code",
      "metadata": {
        "colab": {
          "base_uri": "https://localhost:8080/"
        },
        "id": "We3-P6JLrgJu",
        "outputId": "ef715c71-26ea-487a-e454-9cd26a668ae5"
      },
      "source": [
        "df_VideoSample.info()"
      ],
      "execution_count": 7,
      "outputs": [
        {
          "output_type": "stream",
          "name": "stdout",
          "text": [
            "<class 'pandas.core.frame.DataFrame'>\n",
            "RangeIndex: 453562 entries, 0 to 453561\n",
            "Data columns (total 12 columns):\n",
            " #   Column          Non-Null Count   Dtype  \n",
            "---  ------          --------------   -----  \n",
            " 0   overall         453562 non-null  int64  \n",
            " 1   reviewTime      453562 non-null  object \n",
            " 2   reviewerID      453562 non-null  object \n",
            " 3   asin            453562 non-null  object \n",
            " 4   style           318160 non-null  object \n",
            " 5   reviewerName    453511 non-null  object \n",
            " 6   reviewText      453217 non-null  object \n",
            " 7   summary         453396 non-null  object \n",
            " 8   unixReviewTime  453562 non-null  int64  \n",
            " 9   verified        384546 non-null  float64\n",
            " 10  vote            57123 non-null   object \n",
            " 11  image           4651 non-null    object \n",
            "dtypes: float64(1), int64(2), object(9)\n",
            "memory usage: 41.5+ MB\n"
          ]
        }
      ]
    },
    {
      "cell_type": "code",
      "metadata": {
        "colab": {
          "base_uri": "https://localhost:8080/",
          "height": 426
        },
        "id": "wPEZIrCxrgHG",
        "outputId": "b1ad5ef3-e15f-4459-ab60-165fb9920060"
      },
      "source": [
        "#Verificando % de NaN\n",
        "pd.DataFrame(df_VideoSample.isna().sum(axis=0)).sort_values(by=0, ascending=False)/df_VideoSample.shape[0]"
      ],
      "execution_count": 8,
      "outputs": [
        {
          "output_type": "execute_result",
          "data": {
            "text/html": [
              "<div>\n",
              "<style scoped>\n",
              "    .dataframe tbody tr th:only-of-type {\n",
              "        vertical-align: middle;\n",
              "    }\n",
              "\n",
              "    .dataframe tbody tr th {\n",
              "        vertical-align: top;\n",
              "    }\n",
              "\n",
              "    .dataframe thead th {\n",
              "        text-align: right;\n",
              "    }\n",
              "</style>\n",
              "<table border=\"1\" class=\"dataframe\">\n",
              "  <thead>\n",
              "    <tr style=\"text-align: right;\">\n",
              "      <th></th>\n",
              "      <th>0</th>\n",
              "    </tr>\n",
              "  </thead>\n",
              "  <tbody>\n",
              "    <tr>\n",
              "      <th>image</th>\n",
              "      <td>0.989746</td>\n",
              "    </tr>\n",
              "    <tr>\n",
              "      <th>vote</th>\n",
              "      <td>0.874057</td>\n",
              "    </tr>\n",
              "    <tr>\n",
              "      <th>style</th>\n",
              "      <td>0.298530</td>\n",
              "    </tr>\n",
              "    <tr>\n",
              "      <th>verified</th>\n",
              "      <td>0.152164</td>\n",
              "    </tr>\n",
              "    <tr>\n",
              "      <th>reviewText</th>\n",
              "      <td>0.000761</td>\n",
              "    </tr>\n",
              "    <tr>\n",
              "      <th>summary</th>\n",
              "      <td>0.000366</td>\n",
              "    </tr>\n",
              "    <tr>\n",
              "      <th>reviewerName</th>\n",
              "      <td>0.000112</td>\n",
              "    </tr>\n",
              "    <tr>\n",
              "      <th>overall</th>\n",
              "      <td>0.000000</td>\n",
              "    </tr>\n",
              "    <tr>\n",
              "      <th>reviewTime</th>\n",
              "      <td>0.000000</td>\n",
              "    </tr>\n",
              "    <tr>\n",
              "      <th>reviewerID</th>\n",
              "      <td>0.000000</td>\n",
              "    </tr>\n",
              "    <tr>\n",
              "      <th>asin</th>\n",
              "      <td>0.000000</td>\n",
              "    </tr>\n",
              "    <tr>\n",
              "      <th>unixReviewTime</th>\n",
              "      <td>0.000000</td>\n",
              "    </tr>\n",
              "  </tbody>\n",
              "</table>\n",
              "</div>"
            ],
            "text/plain": [
              "                       0\n",
              "image           0.989746\n",
              "vote            0.874057\n",
              "style           0.298530\n",
              "verified        0.152164\n",
              "reviewText      0.000761\n",
              "summary         0.000366\n",
              "reviewerName    0.000112\n",
              "overall         0.000000\n",
              "reviewTime      0.000000\n",
              "reviewerID      0.000000\n",
              "asin            0.000000\n",
              "unixReviewTime  0.000000"
            ]
          },
          "metadata": {},
          "execution_count": 8
        }
      ]
    },
    {
      "cell_type": "code",
      "source": [
        "#Salvando dados que precisamos prever \n",
        "df_pred = df_VideoSample[df_VideoSample['verified'].isna()]"
      ],
      "metadata": {
        "id": "-P_hCXOQecHe"
      },
      "execution_count": 9,
      "outputs": []
    },
    {
      "cell_type": "code",
      "metadata": {
        "colab": {
          "base_uri": "https://localhost:8080/"
        },
        "id": "PicnoJUJrgEw",
        "outputId": "93fc3e84-4407-4fff-8352-c99f81d84834"
      },
      "source": [
        "#Distribuição da variavel verified, observa-se que o dataset apresenta desbalanceamento\n",
        "df_VideoSample['verified'].value_counts()"
      ],
      "execution_count": 10,
      "outputs": [
        {
          "output_type": "execute_result",
          "data": {
            "text/plain": [
              "1.0    314250\n",
              "0.0     70296\n",
              "Name: verified, dtype: int64"
            ]
          },
          "metadata": {},
          "execution_count": 10
        }
      ]
    },
    {
      "cell_type": "code",
      "source": [
        "df_VideoSample['vote'].value_counts()"
      ],
      "metadata": {
        "colab": {
          "base_uri": "https://localhost:8080/"
        },
        "id": "iBAA8AXxLTSR",
        "outputId": "be3d0555-6bef-458f-e554-829e71c9139d"
      },
      "execution_count": 11,
      "outputs": [
        {
          "output_type": "execute_result",
          "data": {
            "text/plain": [
              "2        17633\n",
              "3         9003\n",
              "4         5476\n",
              "5         3953\n",
              "6         2869\n",
              "         ...  \n",
              "206          1\n",
              "1,239        1\n",
              "610          1\n",
              "299          1\n",
              "377          1\n",
              "Name: vote, Length: 391, dtype: int64"
            ]
          },
          "metadata": {},
          "execution_count": 11
        }
      ]
    },
    {
      "cell_type": "code",
      "metadata": {
        "colab": {
          "base_uri": "https://localhost:8080/",
          "height": 449
        },
        "id": "aWSYSSS2rgCn",
        "outputId": "c08debb0-aa7e-4e5a-998b-03be9508d74e"
      },
      "source": [
        "df_VideoSample.describe(include='all')"
      ],
      "execution_count": 12,
      "outputs": [
        {
          "output_type": "execute_result",
          "data": {
            "text/html": [
              "<div>\n",
              "<style scoped>\n",
              "    .dataframe tbody tr th:only-of-type {\n",
              "        vertical-align: middle;\n",
              "    }\n",
              "\n",
              "    .dataframe tbody tr th {\n",
              "        vertical-align: top;\n",
              "    }\n",
              "\n",
              "    .dataframe thead th {\n",
              "        text-align: right;\n",
              "    }\n",
              "</style>\n",
              "<table border=\"1\" class=\"dataframe\">\n",
              "  <thead>\n",
              "    <tr style=\"text-align: right;\">\n",
              "      <th></th>\n",
              "      <th>overall</th>\n",
              "      <th>reviewTime</th>\n",
              "      <th>reviewerID</th>\n",
              "      <th>asin</th>\n",
              "      <th>style</th>\n",
              "      <th>reviewerName</th>\n",
              "      <th>reviewText</th>\n",
              "      <th>summary</th>\n",
              "      <th>unixReviewTime</th>\n",
              "      <th>verified</th>\n",
              "      <th>vote</th>\n",
              "      <th>image</th>\n",
              "    </tr>\n",
              "  </thead>\n",
              "  <tbody>\n",
              "    <tr>\n",
              "      <th>count</th>\n",
              "      <td>453562.000000</td>\n",
              "      <td>453562</td>\n",
              "      <td>453562</td>\n",
              "      <td>453562</td>\n",
              "      <td>318160</td>\n",
              "      <td>453511</td>\n",
              "      <td>453217</td>\n",
              "      <td>453396</td>\n",
              "      <td>4.535620e+05</td>\n",
              "      <td>384546.000000</td>\n",
              "      <td>57123</td>\n",
              "      <td>4651</td>\n",
              "    </tr>\n",
              "    <tr>\n",
              "      <th>unique</th>\n",
              "      <td>NaN</td>\n",
              "      <td>6066</td>\n",
              "      <td>361288</td>\n",
              "      <td>266</td>\n",
              "      <td>274</td>\n",
              "      <td>245576</td>\n",
              "      <td>376697</td>\n",
              "      <td>228253</td>\n",
              "      <td>NaN</td>\n",
              "      <td>NaN</td>\n",
              "      <td>391</td>\n",
              "      <td>4366</td>\n",
              "    </tr>\n",
              "    <tr>\n",
              "      <th>top</th>\n",
              "      <td>NaN</td>\n",
              "      <td>03 8, 2013</td>\n",
              "      <td>A29BQ6B90Y1R5F</td>\n",
              "      <td>B00178630A</td>\n",
              "      <td>{'Format:': ' Video Game'}</td>\n",
              "      <td>Amazon Customer</td>\n",
              "      <td>Good</td>\n",
              "      <td>Five Stars</td>\n",
              "      <td>NaN</td>\n",
              "      <td>NaN</td>\n",
              "      <td>2</td>\n",
              "      <td>[https://images-na.ssl-images-amazon.com/image...</td>\n",
              "    </tr>\n",
              "    <tr>\n",
              "      <th>freq</th>\n",
              "      <td>NaN</td>\n",
              "      <td>1661</td>\n",
              "      <td>34</td>\n",
              "      <td>7630</td>\n",
              "      <td>124632</td>\n",
              "      <td>35358</td>\n",
              "      <td>1421</td>\n",
              "      <td>91825</td>\n",
              "      <td>NaN</td>\n",
              "      <td>NaN</td>\n",
              "      <td>17633</td>\n",
              "      <td>3</td>\n",
              "    </tr>\n",
              "    <tr>\n",
              "      <th>mean</th>\n",
              "      <td>4.102689</td>\n",
              "      <td>NaN</td>\n",
              "      <td>NaN</td>\n",
              "      <td>NaN</td>\n",
              "      <td>NaN</td>\n",
              "      <td>NaN</td>\n",
              "      <td>NaN</td>\n",
              "      <td>NaN</td>\n",
              "      <td>1.421743e+09</td>\n",
              "      <td>0.817197</td>\n",
              "      <td>NaN</td>\n",
              "      <td>NaN</td>\n",
              "    </tr>\n",
              "    <tr>\n",
              "      <th>std</th>\n",
              "      <td>1.394520</td>\n",
              "      <td>NaN</td>\n",
              "      <td>NaN</td>\n",
              "      <td>NaN</td>\n",
              "      <td>NaN</td>\n",
              "      <td>NaN</td>\n",
              "      <td>NaN</td>\n",
              "      <td>NaN</td>\n",
              "      <td>8.133394e+07</td>\n",
              "      <td>0.386505</td>\n",
              "      <td>NaN</td>\n",
              "      <td>NaN</td>\n",
              "    </tr>\n",
              "    <tr>\n",
              "      <th>min</th>\n",
              "      <td>1.000000</td>\n",
              "      <td>NaN</td>\n",
              "      <td>NaN</td>\n",
              "      <td>NaN</td>\n",
              "      <td>NaN</td>\n",
              "      <td>NaN</td>\n",
              "      <td>NaN</td>\n",
              "      <td>NaN</td>\n",
              "      <td>9.625824e+08</td>\n",
              "      <td>0.000000</td>\n",
              "      <td>NaN</td>\n",
              "      <td>NaN</td>\n",
              "    </tr>\n",
              "    <tr>\n",
              "      <th>25%</th>\n",
              "      <td>4.000000</td>\n",
              "      <td>NaN</td>\n",
              "      <td>NaN</td>\n",
              "      <td>NaN</td>\n",
              "      <td>NaN</td>\n",
              "      <td>NaN</td>\n",
              "      <td>NaN</td>\n",
              "      <td>NaN</td>\n",
              "      <td>1.391904e+09</td>\n",
              "      <td>1.000000</td>\n",
              "      <td>NaN</td>\n",
              "      <td>NaN</td>\n",
              "    </tr>\n",
              "    <tr>\n",
              "      <th>50%</th>\n",
              "      <td>5.000000</td>\n",
              "      <td>NaN</td>\n",
              "      <td>NaN</td>\n",
              "      <td>NaN</td>\n",
              "      <td>NaN</td>\n",
              "      <td>NaN</td>\n",
              "      <td>NaN</td>\n",
              "      <td>NaN</td>\n",
              "      <td>1.435277e+09</td>\n",
              "      <td>1.000000</td>\n",
              "      <td>NaN</td>\n",
              "      <td>NaN</td>\n",
              "    </tr>\n",
              "    <tr>\n",
              "      <th>75%</th>\n",
              "      <td>5.000000</td>\n",
              "      <td>NaN</td>\n",
              "      <td>NaN</td>\n",
              "      <td>NaN</td>\n",
              "      <td>NaN</td>\n",
              "      <td>NaN</td>\n",
              "      <td>NaN</td>\n",
              "      <td>NaN</td>\n",
              "      <td>1.475107e+09</td>\n",
              "      <td>1.000000</td>\n",
              "      <td>NaN</td>\n",
              "      <td>NaN</td>\n",
              "    </tr>\n",
              "    <tr>\n",
              "      <th>max</th>\n",
              "      <td>5.000000</td>\n",
              "      <td>NaN</td>\n",
              "      <td>NaN</td>\n",
              "      <td>NaN</td>\n",
              "      <td>NaN</td>\n",
              "      <td>NaN</td>\n",
              "      <td>NaN</td>\n",
              "      <td>NaN</td>\n",
              "      <td>1.538438e+09</td>\n",
              "      <td>1.000000</td>\n",
              "      <td>NaN</td>\n",
              "      <td>NaN</td>\n",
              "    </tr>\n",
              "  </tbody>\n",
              "</table>\n",
              "</div>"
            ],
            "text/plain": [
              "              overall  ...                                              image\n",
              "count   453562.000000  ...                                               4651\n",
              "unique            NaN  ...                                               4366\n",
              "top               NaN  ...  [https://images-na.ssl-images-amazon.com/image...\n",
              "freq              NaN  ...                                                  3\n",
              "mean         4.102689  ...                                                NaN\n",
              "std          1.394520  ...                                                NaN\n",
              "min          1.000000  ...                                                NaN\n",
              "25%          4.000000  ...                                                NaN\n",
              "50%          5.000000  ...                                                NaN\n",
              "75%          5.000000  ...                                                NaN\n",
              "max          5.000000  ...                                                NaN\n",
              "\n",
              "[11 rows x 12 columns]"
            ]
          },
          "metadata": {},
          "execution_count": 12
        }
      ]
    },
    {
      "cell_type": "code",
      "source": [
        "#Vamos dropar as colunas Vote e image porque apresentam mais de + de 85% de valor NaN\n",
        "#Vamos dropar a coluna Style pois o formato dict atrapalha a manipulação dos dados em DataFrame, como é apenas um exercicio vamos economizar tempo com isso\n",
        "df_VideoSample.drop(columns=['vote','image','style'],inplace=True)"
      ],
      "metadata": {
        "id": "oPWzCqzwLSQM"
      },
      "execution_count": 13,
      "outputs": []
    },
    {
      "cell_type": "code",
      "source": [
        "df_VideoSample.isna().sum()"
      ],
      "metadata": {
        "colab": {
          "base_uri": "https://localhost:8080/"
        },
        "id": "LwpMB6-FgY0x",
        "outputId": "f79cf04b-45ab-46d2-f965-716cfc590b51"
      },
      "execution_count": 14,
      "outputs": [
        {
          "output_type": "execute_result",
          "data": {
            "text/plain": [
              "overall               0\n",
              "reviewTime            0\n",
              "reviewerID            0\n",
              "asin                  0\n",
              "reviewerName         51\n",
              "reviewText          345\n",
              "summary             166\n",
              "unixReviewTime        0\n",
              "verified          69016\n",
              "dtype: int64"
            ]
          },
          "metadata": {},
          "execution_count": 14
        }
      ]
    },
    {
      "cell_type": "code",
      "source": [
        "df_VideoSample.duplicated().sum()"
      ],
      "metadata": {
        "colab": {
          "base_uri": "https://localhost:8080/"
        },
        "id": "ZGRO2bksLjLL",
        "outputId": "4ef86457-7718-434b-8452-9007cabbea13"
      },
      "execution_count": 15,
      "outputs": [
        {
          "output_type": "execute_result",
          "data": {
            "text/plain": [
              "17525"
            ]
          },
          "metadata": {},
          "execution_count": 15
        }
      ]
    },
    {
      "cell_type": "code",
      "source": [
        "#Dropar colunas duplicadas\n",
        "df_VideoSample.drop_duplicates(inplace=True)"
      ],
      "metadata": {
        "id": "WMQ6BPlBL-rP"
      },
      "execution_count": 16,
      "outputs": []
    },
    {
      "cell_type": "code",
      "source": [
        "#Dropar todas as linhas que apresentem qualquer valor NaN, como o dataset é grande não vai ser um problema\n",
        "#Obs: Limpar os valores NaN exceto na featura verified\n",
        "df_VideoSample.dropna(how='any',subset=['reviewerName','reviewText','summary'],inplace=True)"
      ],
      "metadata": {
        "id": "7-X9TvhaPrC-"
      },
      "execution_count": 17,
      "outputs": []
    },
    {
      "cell_type": "code",
      "source": [
        "df_VideoSample.isna().sum()"
      ],
      "metadata": {
        "colab": {
          "base_uri": "https://localhost:8080/"
        },
        "id": "SoRQVnR1rFhL",
        "outputId": "f6c91acb-b027-416c-d3e9-8adde6a40f11"
      },
      "execution_count": 18,
      "outputs": [
        {
          "output_type": "execute_result",
          "data": {
            "text/plain": [
              "overall               0\n",
              "reviewTime            0\n",
              "reviewerID            0\n",
              "asin                  0\n",
              "reviewerName          0\n",
              "reviewText            0\n",
              "summary               0\n",
              "unixReviewTime        0\n",
              "verified          68353\n",
              "dtype: int64"
            ]
          },
          "metadata": {},
          "execution_count": 18
        }
      ]
    },
    {
      "cell_type": "code",
      "source": [
        "#Resetando o index (Vai facilitar juntar o y_pred após a modelagem)\n",
        "df_VideoSample.reset_index(drop=True, inplace=True)"
      ],
      "metadata": {
        "id": "kLwDDsPKAyzz"
      },
      "execution_count": 19,
      "outputs": []
    },
    {
      "cell_type": "code",
      "source": [
        "df_VideoSample.info()"
      ],
      "metadata": {
        "colab": {
          "base_uri": "https://localhost:8080/"
        },
        "id": "KRBnkLg6hHp8",
        "outputId": "49602190-e7ad-4883-a495-3828e1900429"
      },
      "execution_count": 20,
      "outputs": [
        {
          "output_type": "stream",
          "name": "stdout",
          "text": [
            "<class 'pandas.core.frame.DataFrame'>\n",
            "RangeIndex: 435503 entries, 0 to 435502\n",
            "Data columns (total 9 columns):\n",
            " #   Column          Non-Null Count   Dtype  \n",
            "---  ------          --------------   -----  \n",
            " 0   overall         435503 non-null  int64  \n",
            " 1   reviewTime      435503 non-null  object \n",
            " 2   reviewerID      435503 non-null  object \n",
            " 3   asin            435503 non-null  object \n",
            " 4   reviewerName    435503 non-null  object \n",
            " 5   reviewText      435503 non-null  object \n",
            " 6   summary         435503 non-null  object \n",
            " 7   unixReviewTime  435503 non-null  int64  \n",
            " 8   verified        367150 non-null  float64\n",
            "dtypes: float64(1), int64(2), object(6)\n",
            "memory usage: 29.9+ MB\n"
          ]
        }
      ]
    },
    {
      "cell_type": "code",
      "source": [
        "#Para conseguir rodar o modelo de classificação vamos precisar transformar as variaveis categorias, como o dataset  é com basicamente composto por variaveis do tipo categoricas vamos utilizar o OrdinalEncoder para evitar de criar um dataset com muitas colunas\n",
        "#Isso ajudando o modelo a performar melhor\n",
        "enc = OrdinalEncoder()\n",
        "enc.fit(df_VideoSample)\n",
        "\n",
        "df_encoder= enc.transform(df_VideoSample)\n",
        "df_encoder = pd.DataFrame(df_encoder,columns = df_VideoSample.columns)\n",
        "\n",
        "df_encoder"
      ],
      "metadata": {
        "id": "ZwXHSo0eyYQd",
        "colab": {
          "base_uri": "https://localhost:8080/",
          "height": 424
        },
        "outputId": "fd094f93-d150-4e17-ac2e-ea62708f2baa"
      },
      "execution_count": 21,
      "outputs": [
        {
          "output_type": "execute_result",
          "data": {
            "text/html": [
              "<div>\n",
              "<style scoped>\n",
              "    .dataframe tbody tr th:only-of-type {\n",
              "        vertical-align: middle;\n",
              "    }\n",
              "\n",
              "    .dataframe tbody tr th {\n",
              "        vertical-align: top;\n",
              "    }\n",
              "\n",
              "    .dataframe thead th {\n",
              "        text-align: right;\n",
              "    }\n",
              "</style>\n",
              "<table border=\"1\" class=\"dataframe\">\n",
              "  <thead>\n",
              "    <tr style=\"text-align: right;\">\n",
              "      <th></th>\n",
              "      <th>overall</th>\n",
              "      <th>reviewTime</th>\n",
              "      <th>reviewerID</th>\n",
              "      <th>asin</th>\n",
              "      <th>reviewerName</th>\n",
              "      <th>reviewText</th>\n",
              "      <th>summary</th>\n",
              "      <th>unixReviewTime</th>\n",
              "      <th>verified</th>\n",
              "    </tr>\n",
              "  </thead>\n",
              "  <tbody>\n",
              "    <tr>\n",
              "      <th>0</th>\n",
              "      <td>0.0</td>\n",
              "      <td>201.0</td>\n",
              "      <td>17443.0</td>\n",
              "      <td>0.0</td>\n",
              "      <td>144487.0</td>\n",
              "      <td>67467.0</td>\n",
              "      <td>61555.0</td>\n",
              "      <td>5792.0</td>\n",
              "      <td>NaN</td>\n",
              "    </tr>\n",
              "    <tr>\n",
              "      <th>1</th>\n",
              "      <td>4.0</td>\n",
              "      <td>201.0</td>\n",
              "      <td>240791.0</td>\n",
              "      <td>0.0</td>\n",
              "      <td>94840.0</td>\n",
              "      <td>237478.0</td>\n",
              "      <td>150519.0</td>\n",
              "      <td>5792.0</td>\n",
              "      <td>1.0</td>\n",
              "    </tr>\n",
              "    <tr>\n",
              "      <th>2</th>\n",
              "      <td>4.0</td>\n",
              "      <td>5777.0</td>\n",
              "      <td>73248.0</td>\n",
              "      <td>0.0</td>\n",
              "      <td>9783.0</td>\n",
              "      <td>119993.0</td>\n",
              "      <td>92489.0</td>\n",
              "      <td>5780.0</td>\n",
              "      <td>1.0</td>\n",
              "    </tr>\n",
              "    <tr>\n",
              "      <th>3</th>\n",
              "      <td>4.0</td>\n",
              "      <td>5761.0</td>\n",
              "      <td>179746.0</td>\n",
              "      <td>0.0</td>\n",
              "      <td>148280.0</td>\n",
              "      <td>281978.0</td>\n",
              "      <td>176512.0</td>\n",
              "      <td>5779.0</td>\n",
              "      <td>0.0</td>\n",
              "    </tr>\n",
              "    <tr>\n",
              "      <th>4</th>\n",
              "      <td>4.0</td>\n",
              "      <td>5727.0</td>\n",
              "      <td>27622.0</td>\n",
              "      <td>0.0</td>\n",
              "      <td>188740.0</td>\n",
              "      <td>105341.0</td>\n",
              "      <td>118881.0</td>\n",
              "      <td>5778.0</td>\n",
              "      <td>1.0</td>\n",
              "    </tr>\n",
              "    <tr>\n",
              "      <th>...</th>\n",
              "      <td>...</td>\n",
              "      <td>...</td>\n",
              "      <td>...</td>\n",
              "      <td>...</td>\n",
              "      <td>...</td>\n",
              "      <td>...</td>\n",
              "      <td>...</td>\n",
              "      <td>...</td>\n",
              "      <td>...</td>\n",
              "    </tr>\n",
              "    <tr>\n",
              "      <th>435498</th>\n",
              "      <td>4.0</td>\n",
              "      <td>4438.0</td>\n",
              "      <td>260650.0</td>\n",
              "      <td>265.0</td>\n",
              "      <td>180039.0</td>\n",
              "      <td>336190.0</td>\n",
              "      <td>89768.0</td>\n",
              "      <td>6063.0</td>\n",
              "      <td>1.0</td>\n",
              "    </tr>\n",
              "    <tr>\n",
              "      <th>435499</th>\n",
              "      <td>0.0</td>\n",
              "      <td>4438.0</td>\n",
              "      <td>229707.0</td>\n",
              "      <td>265.0</td>\n",
              "      <td>86595.0</td>\n",
              "      <td>45599.0</td>\n",
              "      <td>31433.0</td>\n",
              "      <td>6063.0</td>\n",
              "      <td>1.0</td>\n",
              "    </tr>\n",
              "    <tr>\n",
              "      <th>435500</th>\n",
              "      <td>1.0</td>\n",
              "      <td>4405.0</td>\n",
              "      <td>155309.0</td>\n",
              "      <td>265.0</td>\n",
              "      <td>76113.0</td>\n",
              "      <td>201711.0</td>\n",
              "      <td>133706.0</td>\n",
              "      <td>6062.0</td>\n",
              "      <td>1.0</td>\n",
              "    </tr>\n",
              "    <tr>\n",
              "      <th>435501</th>\n",
              "      <td>0.0</td>\n",
              "      <td>4405.0</td>\n",
              "      <td>43752.0</td>\n",
              "      <td>265.0</td>\n",
              "      <td>184299.0</td>\n",
              "      <td>32268.0</td>\n",
              "      <td>121750.0</td>\n",
              "      <td>6062.0</td>\n",
              "      <td>NaN</td>\n",
              "    </tr>\n",
              "    <tr>\n",
              "      <th>435502</th>\n",
              "      <td>4.0</td>\n",
              "      <td>4373.0</td>\n",
              "      <td>257845.0</td>\n",
              "      <td>265.0</td>\n",
              "      <td>225709.0</td>\n",
              "      <td>62275.0</td>\n",
              "      <td>63193.0</td>\n",
              "      <td>6060.0</td>\n",
              "      <td>1.0</td>\n",
              "    </tr>\n",
              "  </tbody>\n",
              "</table>\n",
              "<p>435503 rows × 9 columns</p>\n",
              "</div>"
            ],
            "text/plain": [
              "        overall  reviewTime  reviewerID  ...   summary  unixReviewTime  verified\n",
              "0           0.0       201.0     17443.0  ...   61555.0          5792.0       NaN\n",
              "1           4.0       201.0    240791.0  ...  150519.0          5792.0       1.0\n",
              "2           4.0      5777.0     73248.0  ...   92489.0          5780.0       1.0\n",
              "3           4.0      5761.0    179746.0  ...  176512.0          5779.0       0.0\n",
              "4           4.0      5727.0     27622.0  ...  118881.0          5778.0       1.0\n",
              "...         ...         ...         ...  ...       ...             ...       ...\n",
              "435498      4.0      4438.0    260650.0  ...   89768.0          6063.0       1.0\n",
              "435499      0.0      4438.0    229707.0  ...   31433.0          6063.0       1.0\n",
              "435500      1.0      4405.0    155309.0  ...  133706.0          6062.0       1.0\n",
              "435501      0.0      4405.0     43752.0  ...  121750.0          6062.0       NaN\n",
              "435502      4.0      4373.0    257845.0  ...   63193.0          6060.0       1.0\n",
              "\n",
              "[435503 rows x 9 columns]"
            ]
          },
          "metadata": {},
          "execution_count": 21
        }
      ]
    },
    {
      "cell_type": "code",
      "source": [
        "df_encoder = df_encoder.set_index(df_VideoSample.index)"
      ],
      "metadata": {
        "id": "eN2FGZF-CbCf"
      },
      "execution_count": 22,
      "outputs": []
    },
    {
      "cell_type": "code",
      "source": [
        "df_encoder.isna().sum()"
      ],
      "metadata": {
        "colab": {
          "base_uri": "https://localhost:8080/"
        },
        "id": "_o9x6Ac7sht5",
        "outputId": "bccc3ca1-1fa4-4901-a0b7-f4b3e5fcf434"
      },
      "execution_count": 23,
      "outputs": [
        {
          "output_type": "execute_result",
          "data": {
            "text/plain": [
              "overall               0\n",
              "reviewTime            0\n",
              "reviewerID            0\n",
              "asin                  0\n",
              "reviewerName          0\n",
              "reviewText            0\n",
              "summary               0\n",
              "unixReviewTime        0\n",
              "verified          68353\n",
              "dtype: int64"
            ]
          },
          "metadata": {},
          "execution_count": 23
        }
      ]
    },
    {
      "cell_type": "code",
      "source": [
        "#Split dos dados para treino e predição dos dados NaN\n",
        "df_pred = df_encoder[df_encoder['verified'].isna()]\n",
        "\n",
        "X_pred = df_pred.drop(columns='verified')\n"
      ],
      "metadata": {
        "id": "iR94x3Cxjb85"
      },
      "execution_count": 24,
      "outputs": []
    },
    {
      "cell_type": "code",
      "source": [
        "df_encoder_limpo = df_encoder.dropna(how='any')\n",
        "\n",
        "df_encoder_limpo"
      ],
      "metadata": {
        "colab": {
          "base_uri": "https://localhost:8080/",
          "height": 424
        },
        "id": "pZ8kJvfSmKgv",
        "outputId": "76fdba45-bd4e-4278-9b87-a6b35e795435"
      },
      "execution_count": 25,
      "outputs": [
        {
          "output_type": "execute_result",
          "data": {
            "text/html": [
              "<div>\n",
              "<style scoped>\n",
              "    .dataframe tbody tr th:only-of-type {\n",
              "        vertical-align: middle;\n",
              "    }\n",
              "\n",
              "    .dataframe tbody tr th {\n",
              "        vertical-align: top;\n",
              "    }\n",
              "\n",
              "    .dataframe thead th {\n",
              "        text-align: right;\n",
              "    }\n",
              "</style>\n",
              "<table border=\"1\" class=\"dataframe\">\n",
              "  <thead>\n",
              "    <tr style=\"text-align: right;\">\n",
              "      <th></th>\n",
              "      <th>overall</th>\n",
              "      <th>reviewTime</th>\n",
              "      <th>reviewerID</th>\n",
              "      <th>asin</th>\n",
              "      <th>reviewerName</th>\n",
              "      <th>reviewText</th>\n",
              "      <th>summary</th>\n",
              "      <th>unixReviewTime</th>\n",
              "      <th>verified</th>\n",
              "    </tr>\n",
              "  </thead>\n",
              "  <tbody>\n",
              "    <tr>\n",
              "      <th>1</th>\n",
              "      <td>4.0</td>\n",
              "      <td>201.0</td>\n",
              "      <td>240791.0</td>\n",
              "      <td>0.0</td>\n",
              "      <td>94840.0</td>\n",
              "      <td>237478.0</td>\n",
              "      <td>150519.0</td>\n",
              "      <td>5792.0</td>\n",
              "      <td>1.0</td>\n",
              "    </tr>\n",
              "    <tr>\n",
              "      <th>2</th>\n",
              "      <td>4.0</td>\n",
              "      <td>5777.0</td>\n",
              "      <td>73248.0</td>\n",
              "      <td>0.0</td>\n",
              "      <td>9783.0</td>\n",
              "      <td>119993.0</td>\n",
              "      <td>92489.0</td>\n",
              "      <td>5780.0</td>\n",
              "      <td>1.0</td>\n",
              "    </tr>\n",
              "    <tr>\n",
              "      <th>3</th>\n",
              "      <td>4.0</td>\n",
              "      <td>5761.0</td>\n",
              "      <td>179746.0</td>\n",
              "      <td>0.0</td>\n",
              "      <td>148280.0</td>\n",
              "      <td>281978.0</td>\n",
              "      <td>176512.0</td>\n",
              "      <td>5779.0</td>\n",
              "      <td>0.0</td>\n",
              "    </tr>\n",
              "    <tr>\n",
              "      <th>4</th>\n",
              "      <td>4.0</td>\n",
              "      <td>5727.0</td>\n",
              "      <td>27622.0</td>\n",
              "      <td>0.0</td>\n",
              "      <td>188740.0</td>\n",
              "      <td>105341.0</td>\n",
              "      <td>118881.0</td>\n",
              "      <td>5778.0</td>\n",
              "      <td>1.0</td>\n",
              "    </tr>\n",
              "    <tr>\n",
              "      <th>5</th>\n",
              "      <td>4.0</td>\n",
              "      <td>6065.0</td>\n",
              "      <td>207387.0</td>\n",
              "      <td>0.0</td>\n",
              "      <td>99167.0</td>\n",
              "      <td>190847.0</td>\n",
              "      <td>56766.0</td>\n",
              "      <td>5768.0</td>\n",
              "      <td>1.0</td>\n",
              "    </tr>\n",
              "    <tr>\n",
              "      <th>...</th>\n",
              "      <td>...</td>\n",
              "      <td>...</td>\n",
              "      <td>...</td>\n",
              "      <td>...</td>\n",
              "      <td>...</td>\n",
              "      <td>...</td>\n",
              "      <td>...</td>\n",
              "      <td>...</td>\n",
              "      <td>...</td>\n",
              "    </tr>\n",
              "    <tr>\n",
              "      <th>435497</th>\n",
              "      <td>0.0</td>\n",
              "      <td>4438.0</td>\n",
              "      <td>253722.0</td>\n",
              "      <td>265.0</td>\n",
              "      <td>194098.0</td>\n",
              "      <td>272474.0</td>\n",
              "      <td>46844.0</td>\n",
              "      <td>6063.0</td>\n",
              "      <td>1.0</td>\n",
              "    </tr>\n",
              "    <tr>\n",
              "      <th>435498</th>\n",
              "      <td>4.0</td>\n",
              "      <td>4438.0</td>\n",
              "      <td>260650.0</td>\n",
              "      <td>265.0</td>\n",
              "      <td>180039.0</td>\n",
              "      <td>336190.0</td>\n",
              "      <td>89768.0</td>\n",
              "      <td>6063.0</td>\n",
              "      <td>1.0</td>\n",
              "    </tr>\n",
              "    <tr>\n",
              "      <th>435499</th>\n",
              "      <td>0.0</td>\n",
              "      <td>4438.0</td>\n",
              "      <td>229707.0</td>\n",
              "      <td>265.0</td>\n",
              "      <td>86595.0</td>\n",
              "      <td>45599.0</td>\n",
              "      <td>31433.0</td>\n",
              "      <td>6063.0</td>\n",
              "      <td>1.0</td>\n",
              "    </tr>\n",
              "    <tr>\n",
              "      <th>435500</th>\n",
              "      <td>1.0</td>\n",
              "      <td>4405.0</td>\n",
              "      <td>155309.0</td>\n",
              "      <td>265.0</td>\n",
              "      <td>76113.0</td>\n",
              "      <td>201711.0</td>\n",
              "      <td>133706.0</td>\n",
              "      <td>6062.0</td>\n",
              "      <td>1.0</td>\n",
              "    </tr>\n",
              "    <tr>\n",
              "      <th>435502</th>\n",
              "      <td>4.0</td>\n",
              "      <td>4373.0</td>\n",
              "      <td>257845.0</td>\n",
              "      <td>265.0</td>\n",
              "      <td>225709.0</td>\n",
              "      <td>62275.0</td>\n",
              "      <td>63193.0</td>\n",
              "      <td>6060.0</td>\n",
              "      <td>1.0</td>\n",
              "    </tr>\n",
              "  </tbody>\n",
              "</table>\n",
              "<p>367150 rows × 9 columns</p>\n",
              "</div>"
            ],
            "text/plain": [
              "        overall  reviewTime  reviewerID  ...   summary  unixReviewTime  verified\n",
              "1           4.0       201.0    240791.0  ...  150519.0          5792.0       1.0\n",
              "2           4.0      5777.0     73248.0  ...   92489.0          5780.0       1.0\n",
              "3           4.0      5761.0    179746.0  ...  176512.0          5779.0       0.0\n",
              "4           4.0      5727.0     27622.0  ...  118881.0          5778.0       1.0\n",
              "5           4.0      6065.0    207387.0  ...   56766.0          5768.0       1.0\n",
              "...         ...         ...         ...  ...       ...             ...       ...\n",
              "435497      0.0      4438.0    253722.0  ...   46844.0          6063.0       1.0\n",
              "435498      4.0      4438.0    260650.0  ...   89768.0          6063.0       1.0\n",
              "435499      0.0      4438.0    229707.0  ...   31433.0          6063.0       1.0\n",
              "435500      1.0      4405.0    155309.0  ...  133706.0          6062.0       1.0\n",
              "435502      4.0      4373.0    257845.0  ...   63193.0          6060.0       1.0\n",
              "\n",
              "[367150 rows x 9 columns]"
            ]
          },
          "metadata": {},
          "execution_count": 25
        }
      ]
    },
    {
      "cell_type": "code",
      "source": [
        "#Conforme ja observado o dataset esta desbalanceado\n",
        "df_encoder_limpo['verified'].value_counts()"
      ],
      "metadata": {
        "colab": {
          "base_uri": "https://localhost:8080/"
        },
        "id": "_lJfpTE6meWg",
        "outputId": "6fabca76-4add-424b-c60b-8d52591d60cf"
      },
      "execution_count": 26,
      "outputs": [
        {
          "output_type": "execute_result",
          "data": {
            "text/plain": [
              "1.0    303125\n",
              "0.0     64025\n",
              "Name: verified, dtype: int64"
            ]
          },
          "metadata": {},
          "execution_count": 26
        }
      ]
    },
    {
      "cell_type": "code",
      "source": [
        "#Como o dataset apresenta grande volume de dados grande, vamos realizar um undersampling para equilibrar as classes e evitar de estourar a memoria do colab\n",
        "\n",
        "X = df_encoder_limpo.drop(columns='verified')\n",
        "y = df_encoder_limpo['verified']\n",
        "\n",
        "under = RandomUnderSampler()\n",
        "\n",
        "X_under, y_under = under.fit_resample(X, y) "
      ],
      "metadata": {
        "id": "lCjxMTVPkXSt"
      },
      "execution_count": 27,
      "outputs": []
    },
    {
      "cell_type": "code",
      "source": [
        "#Para ganharmos tempo com modelagem e hiper parametrização vamos utilizar o autoML TPOTClassifier\n",
        "\n",
        "#Importando os pacotes\n",
        "modelo = TPOTClassifier(generations = 2, population_size = 3, verbosity = 3)\n",
        "#Essa biblioteca ja testa varios modelos e parametros para achar o mais otimizado com base nos dados de treino"
      ],
      "metadata": {
        "id": "eWOMrPZwOtpv"
      },
      "execution_count": 28,
      "outputs": []
    },
    {
      "cell_type": "code",
      "source": [
        "#Ajustando os dados \n",
        "modelo.fit(X_under, y_under)"
      ],
      "metadata": {
        "colab": {
          "base_uri": "https://localhost:8080/",
          "height": 297,
          "referenced_widgets": [
            "99e9544d0f7b4ce284777771047af6fa",
            "ff34f3ec8693461e81eb2820922a40f5",
            "3edea2a9990a41bd89a425f25cbcaadc",
            "c2c23dfcb3c14189ace1126d3d1bd9a0",
            "610a3b5989954a5bb477710a717b83a4",
            "c80a6ca12fa540bf832924a202946491",
            "04515b01c43a402f827815d0de854ae9",
            "3acb8747bc1449ce8e5824511e6ca4b2",
            "b6c632059784459bb9ee84890029af18",
            "6664ce3dd2fc4e15a2fdcf293af2e76d",
            "dc408319b4144cd589993f22cbf74c14"
          ]
        },
        "id": "QVV2sSe8nl78",
        "outputId": "6919dd59-eb13-4a85-cf45-9514637a1d79"
      },
      "execution_count": 29,
      "outputs": [
        {
          "output_type": "stream",
          "name": "stdout",
          "text": [
            "32 operators have been imported by TPOT.\n"
          ]
        },
        {
          "output_type": "display_data",
          "data": {
            "application/vnd.jupyter.widget-view+json": {
              "model_id": "99e9544d0f7b4ce284777771047af6fa",
              "version_minor": 0,
              "version_major": 2
            },
            "text/plain": [
              "Optimization Progress:   0%|          | 0/9 [00:00<?, ?pipeline/s]"
            ]
          },
          "metadata": {}
        },
        {
          "output_type": "stream",
          "name": "stdout",
          "text": [
            "Skipped pipeline #5 due to time out. Continuing to the next pipeline.\n",
            "\n",
            "Generation 1 - Current Pareto front scores:\n",
            "\n",
            "-1\t0.4784303006638032\tSGDClassifier(input_matrix, SGDClassifier__alpha=0.0, SGDClassifier__eta0=1.0, SGDClassifier__fit_intercept=True, SGDClassifier__l1_ratio=0.5, SGDClassifier__learning_rate=invscaling, SGDClassifier__loss=squared_hinge, SGDClassifier__penalty=elasticnet, SGDClassifier__power_t=1.0)\n",
            "\n",
            "-2\t0.48819211245607186\tSGDClassifier(GaussianNB(input_matrix), SGDClassifier__alpha=0.0, SGDClassifier__eta0=1.0, SGDClassifier__fit_intercept=True, SGDClassifier__l1_ratio=0.5, SGDClassifier__learning_rate=invscaling, SGDClassifier__loss=squared_hinge, SGDClassifier__penalty=elasticnet, SGDClassifier__power_t=1.0)\n",
            "\n",
            "Generation 2 - Current Pareto front scores:\n",
            "\n",
            "-1\t0.5015853182350645\tSGDClassifier(input_matrix, SGDClassifier__alpha=0.0, SGDClassifier__eta0=1.0, SGDClassifier__fit_intercept=True, SGDClassifier__l1_ratio=0.5, SGDClassifier__learning_rate=invscaling, SGDClassifier__loss=squared_hinge, SGDClassifier__penalty=elasticnet, SGDClassifier__power_t=10.0)\n",
            "\n",
            "-2\t0.5554392815306521\tDecisionTreeClassifier(Binarizer(input_matrix, Binarizer__threshold=0.8), DecisionTreeClassifier__criterion=entropy, DecisionTreeClassifier__max_depth=6, DecisionTreeClassifier__min_samples_leaf=16, DecisionTreeClassifier__min_samples_split=10)\n"
          ]
        },
        {
          "output_type": "execute_result",
          "data": {
            "text/plain": [
              "TPOTClassifier(generations=2, population_size=3, verbosity=3)"
            ]
          },
          "metadata": {},
          "execution_count": 29
        }
      ]
    },
    {
      "cell_type": "code",
      "source": [
        "#Criando o DataFrame com a predição\n",
        "\n",
        "df_resultado = pd.DataFrame(modelo.predict(X_pred)).set_index(X_pred.index)\n",
        "\n",
        "df_resultado"
      ],
      "metadata": {
        "colab": {
          "base_uri": "https://localhost:8080/",
          "height": 424
        },
        "id": "rAhoYQ7dpNpw",
        "outputId": "c34cec3f-4e67-44f3-93d1-9fa26e58338c"
      },
      "execution_count": 30,
      "outputs": [
        {
          "output_type": "execute_result",
          "data": {
            "text/html": [
              "<div>\n",
              "<style scoped>\n",
              "    .dataframe tbody tr th:only-of-type {\n",
              "        vertical-align: middle;\n",
              "    }\n",
              "\n",
              "    .dataframe tbody tr th {\n",
              "        vertical-align: top;\n",
              "    }\n",
              "\n",
              "    .dataframe thead th {\n",
              "        text-align: right;\n",
              "    }\n",
              "</style>\n",
              "<table border=\"1\" class=\"dataframe\">\n",
              "  <thead>\n",
              "    <tr style=\"text-align: right;\">\n",
              "      <th></th>\n",
              "      <th>0</th>\n",
              "    </tr>\n",
              "  </thead>\n",
              "  <tbody>\n",
              "    <tr>\n",
              "      <th>0</th>\n",
              "      <td>0.0</td>\n",
              "    </tr>\n",
              "    <tr>\n",
              "      <th>12</th>\n",
              "      <td>0.0</td>\n",
              "    </tr>\n",
              "    <tr>\n",
              "      <th>13</th>\n",
              "      <td>0.0</td>\n",
              "    </tr>\n",
              "    <tr>\n",
              "      <th>19</th>\n",
              "      <td>0.0</td>\n",
              "    </tr>\n",
              "    <tr>\n",
              "      <th>23</th>\n",
              "      <td>0.0</td>\n",
              "    </tr>\n",
              "    <tr>\n",
              "      <th>...</th>\n",
              "      <td>...</td>\n",
              "    </tr>\n",
              "    <tr>\n",
              "      <th>435477</th>\n",
              "      <td>1.0</td>\n",
              "    </tr>\n",
              "    <tr>\n",
              "      <th>435485</th>\n",
              "      <td>1.0</td>\n",
              "    </tr>\n",
              "    <tr>\n",
              "      <th>435489</th>\n",
              "      <td>1.0</td>\n",
              "    </tr>\n",
              "    <tr>\n",
              "      <th>435493</th>\n",
              "      <td>0.0</td>\n",
              "    </tr>\n",
              "    <tr>\n",
              "      <th>435501</th>\n",
              "      <td>0.0</td>\n",
              "    </tr>\n",
              "  </tbody>\n",
              "</table>\n",
              "<p>68353 rows × 1 columns</p>\n",
              "</div>"
            ],
            "text/plain": [
              "          0\n",
              "0       0.0\n",
              "12      0.0\n",
              "13      0.0\n",
              "19      0.0\n",
              "23      0.0\n",
              "...     ...\n",
              "435477  1.0\n",
              "435485  1.0\n",
              "435489  1.0\n",
              "435493  0.0\n",
              "435501  0.0\n",
              "\n",
              "[68353 rows x 1 columns]"
            ]
          },
          "metadata": {},
          "execution_count": 30
        }
      ]
    },
    {
      "cell_type": "code",
      "source": [
        "df_resultado.value_counts()"
      ],
      "metadata": {
        "colab": {
          "base_uri": "https://localhost:8080/"
        },
        "id": "0AvA9N7ruw7Y",
        "outputId": "1b32cd23-cc9d-436a-bc08-1547f5048fe3"
      },
      "execution_count": 31,
      "outputs": [
        {
          "output_type": "execute_result",
          "data": {
            "text/plain": [
              "1.0    60323\n",
              "0.0     8030\n",
              "dtype: int64"
            ]
          },
          "metadata": {},
          "execution_count": 31
        }
      ]
    },
    {
      "cell_type": "code",
      "source": [
        "#Preenchendo os campos NaN\n",
        "df_VideoSample['verified']= df_VideoSample['verified'].fillna(df_resultado[0],axis=0)"
      ],
      "metadata": {
        "id": "LtaI8-n28CV_"
      },
      "execution_count": 32,
      "outputs": []
    },
    {
      "cell_type": "code",
      "source": [
        "df_VideoSample.isna().sum()"
      ],
      "metadata": {
        "colab": {
          "base_uri": "https://localhost:8080/"
        },
        "id": "vu4xhy2fui6-",
        "outputId": "e91a3fce-e4de-4484-e28b-9ecef7ec7fbe"
      },
      "execution_count": 33,
      "outputs": [
        {
          "output_type": "execute_result",
          "data": {
            "text/plain": [
              "overall           0\n",
              "reviewTime        0\n",
              "reviewerID        0\n",
              "asin              0\n",
              "reviewerName      0\n",
              "reviewText        0\n",
              "summary           0\n",
              "unixReviewTime    0\n",
              "verified          0\n",
              "dtype: int64"
            ]
          },
          "metadata": {},
          "execution_count": 33
        }
      ]
    },
    {
      "cell_type": "code",
      "source": [
        "df_VideoSample.shape"
      ],
      "metadata": {
        "colab": {
          "base_uri": "https://localhost:8080/"
        },
        "id": "jSPIcCCgZgxm",
        "outputId": "2dbcb0aa-22e2-408c-9a44-e70f36c31aa0"
      },
      "execution_count": 34,
      "outputs": [
        {
          "output_type": "execute_result",
          "data": {
            "text/plain": [
              "(435503, 9)"
            ]
          },
          "metadata": {},
          "execution_count": 34
        }
      ]
    },
    {
      "cell_type": "code",
      "source": [
        "#Filtrando apenas as linhas verificadas, após o processo de classificação \n",
        "df_Video_recomend=df_VideoSample[df_VideoSample['verified']==1]\n"
      ],
      "metadata": {
        "id": "QJ9nlFAm75AF"
      },
      "execution_count": 35,
      "outputs": []
    },
    {
      "cell_type": "markdown",
      "source": [
        "#Recomendação"
      ],
      "metadata": {
        "id": "fHgAdWhFndC3"
      }
    },
    {
      "cell_type": "code",
      "source": [
        "#Dataset apresenta as informações de correlação entre os produtos\n",
        "df_MetaVideo.sample()"
      ],
      "metadata": {
        "colab": {
          "base_uri": "https://localhost:8080/",
          "height": 205
        },
        "id": "NvuzTF6rok_E",
        "outputId": "f3e83409-347c-46c4-e097-174e255e9baf"
      },
      "execution_count": 36,
      "outputs": [
        {
          "output_type": "execute_result",
          "data": {
            "text/html": [
              "<div>\n",
              "<style scoped>\n",
              "    .dataframe tbody tr th:only-of-type {\n",
              "        vertical-align: middle;\n",
              "    }\n",
              "\n",
              "    .dataframe tbody tr th {\n",
              "        vertical-align: top;\n",
              "    }\n",
              "\n",
              "    .dataframe thead th {\n",
              "        text-align: right;\n",
              "    }\n",
              "</style>\n",
              "<table border=\"1\" class=\"dataframe\">\n",
              "  <thead>\n",
              "    <tr style=\"text-align: right;\">\n",
              "      <th></th>\n",
              "      <th>category</th>\n",
              "      <th>tech1</th>\n",
              "      <th>description</th>\n",
              "      <th>fit</th>\n",
              "      <th>title</th>\n",
              "      <th>also_buy</th>\n",
              "      <th>tech2</th>\n",
              "      <th>brand</th>\n",
              "      <th>feature</th>\n",
              "      <th>rank</th>\n",
              "      <th>also_view</th>\n",
              "      <th>main_cat</th>\n",
              "      <th>similar_item</th>\n",
              "      <th>date</th>\n",
              "      <th>price</th>\n",
              "      <th>asin</th>\n",
              "      <th>imageURL</th>\n",
              "      <th>imageURLHighRes</th>\n",
              "      <th>details</th>\n",
              "    </tr>\n",
              "  </thead>\n",
              "  <tbody>\n",
              "    <tr>\n",
              "      <th>59875</th>\n",
              "      <td>[Video Games, PC, Games, &lt;/span&gt;&lt;/span&gt;&lt;/span&gt;]</td>\n",
              "      <td></td>\n",
              "      <td>[]</td>\n",
              "      <td></td>\n",
              "      <td>Idols Galore! + Slave Pageant Bishoujo Aventur...</td>\n",
              "      <td>[B07KFMLMZ2, B01M8I6U3X, B07CMKHYJ7, B00QMN7AX...</td>\n",
              "      <td></td>\n",
              "      <td>by\\n    \\n    Animewild</td>\n",
              "      <td>[Officially Licensed]</td>\n",
              "      <td>[&gt;#83,230 in Video Games (See Top 100 in Video...</td>\n",
              "      <td>[B00QMO21N2, B00N5A9VLQ, B071ZZWKCS, B0026M4DI...</td>\n",
              "      <td>Video Games</td>\n",
              "      <td></td>\n",
              "      <td></td>\n",
              "      <td>\\n\\t\\t                                        ...</td>\n",
              "      <td>B00D9E3312</td>\n",
              "      <td>[]</td>\n",
              "      <td>[]</td>\n",
              "      <td>{}</td>\n",
              "    </tr>\n",
              "  </tbody>\n",
              "</table>\n",
              "</div>"
            ],
            "text/plain": [
              "                                              category  ... details\n",
              "59875  [Video Games, PC, Games, </span></span></span>]  ...      {}\n",
              "\n",
              "[1 rows x 19 columns]"
            ]
          },
          "metadata": {},
          "execution_count": 36
        }
      ]
    },
    {
      "cell_type": "code",
      "source": [
        "#Vamos juntar tudo em um dataset\n",
        "df_final= df_Video_recomend.merge(df_MetaVideo, how=\"left\", on='asin')\n",
        "\n",
        "df_final.sample()"
      ],
      "metadata": {
        "colab": {
          "base_uri": "https://localhost:8080/",
          "height": 205
        },
        "id": "szQo4pdrok2U",
        "outputId": "127109bb-2450-4989-eda4-6cfa5a0dcd8e"
      },
      "execution_count": 37,
      "outputs": [
        {
          "output_type": "execute_result",
          "data": {
            "text/html": [
              "<div>\n",
              "<style scoped>\n",
              "    .dataframe tbody tr th:only-of-type {\n",
              "        vertical-align: middle;\n",
              "    }\n",
              "\n",
              "    .dataframe tbody tr th {\n",
              "        vertical-align: top;\n",
              "    }\n",
              "\n",
              "    .dataframe thead th {\n",
              "        text-align: right;\n",
              "    }\n",
              "</style>\n",
              "<table border=\"1\" class=\"dataframe\">\n",
              "  <thead>\n",
              "    <tr style=\"text-align: right;\">\n",
              "      <th></th>\n",
              "      <th>overall</th>\n",
              "      <th>reviewTime</th>\n",
              "      <th>reviewerID</th>\n",
              "      <th>asin</th>\n",
              "      <th>reviewerName</th>\n",
              "      <th>reviewText</th>\n",
              "      <th>summary</th>\n",
              "      <th>unixReviewTime</th>\n",
              "      <th>verified</th>\n",
              "      <th>category</th>\n",
              "      <th>tech1</th>\n",
              "      <th>description</th>\n",
              "      <th>fit</th>\n",
              "      <th>title</th>\n",
              "      <th>also_buy</th>\n",
              "      <th>tech2</th>\n",
              "      <th>brand</th>\n",
              "      <th>feature</th>\n",
              "      <th>rank</th>\n",
              "      <th>also_view</th>\n",
              "      <th>main_cat</th>\n",
              "      <th>similar_item</th>\n",
              "      <th>date</th>\n",
              "      <th>price</th>\n",
              "      <th>imageURL</th>\n",
              "      <th>imageURLHighRes</th>\n",
              "      <th>details</th>\n",
              "    </tr>\n",
              "  </thead>\n",
              "  <tbody>\n",
              "    <tr>\n",
              "      <th>295821</th>\n",
              "      <td>5</td>\n",
              "      <td>08 25, 2015</td>\n",
              "      <td>A393P67PW91PJD</td>\n",
              "      <td>B00N4ABT1C</td>\n",
              "      <td>ash</td>\n",
              "      <td>A+</td>\n",
              "      <td>Five Stars</td>\n",
              "      <td>1440460800</td>\n",
              "      <td>1.0</td>\n",
              "      <td>[Video Games, Nintendo 3DS &amp; 2DS, Interactive ...</td>\n",
              "      <td></td>\n",
              "      <td>[Yoshi amiibo]</td>\n",
              "      <td></td>\n",
              "      <td>Yoshi amiibo (Super Smash Bros Series)</td>\n",
              "      <td>[B00N4ABMG4, B00O9GP99S, B0158VW8NM, B00Z1DX1B...</td>\n",
              "      <td></td>\n",
              "      <td>by\\n    \\n    Nintendo</td>\n",
              "      <td>[Team up with your amiibo or play against frie...</td>\n",
              "      <td>[&gt;#7,557 in Video Games (See Top 100 in Video ...</td>\n",
              "      <td>[B00S7O6R62, B00O9GPAVU, B00N4ABMG4, B00O92ONB...</td>\n",
              "      <td>Video Games</td>\n",
              "      <td></td>\n",
              "      <td></td>\n",
              "      <td>\\n\\t\\t                                        ...</td>\n",
              "      <td>[https://images-na.ssl-images-amazon.com/image...</td>\n",
              "      <td>[https://images-na.ssl-images-amazon.com/image...</td>\n",
              "      <td>{}</td>\n",
              "    </tr>\n",
              "  </tbody>\n",
              "</table>\n",
              "</div>"
            ],
            "text/plain": [
              "        overall  ... details\n",
              "295821        5  ...      {}\n",
              "\n",
              "[1 rows x 27 columns]"
            ]
          },
          "metadata": {},
          "execution_count": 37
        }
      ]
    },
    {
      "cell_type": "code",
      "source": [
        "#Aproximada 80% dos produtos tem avaliação geral entre 4 e 5\n",
        "df_final['overall'].value_counts()/df_final.shape[0]"
      ],
      "metadata": {
        "colab": {
          "base_uri": "https://localhost:8080/"
        },
        "id": "1m3EPKftfPFQ",
        "outputId": "ea069762-4bce-4fd2-dff3-8707d3882304"
      },
      "execution_count": 38,
      "outputs": [
        {
          "output_type": "execute_result",
          "data": {
            "text/plain": [
              "5    0.663727\n",
              "4    0.141545\n",
              "1    0.080047\n",
              "3    0.068019\n",
              "2    0.046663\n",
              "Name: overall, dtype: float64"
            ]
          },
          "metadata": {},
          "execution_count": 38
        }
      ]
    },
    {
      "cell_type": "code",
      "source": [
        "#Para o nosso modelo de recomendação vamos fazer a recomendação pelos top200 produtos mais bem avaliados\n",
        "product_rated=df_final.groupby(by='asin',as_index=False).agg({'overall':np.mean}).rename(columns={'overall':'overall_rate'})\n",
        "shop_count=product_rated.set_index('asin')\n",
        "\n",
        "top200_avg_products_score=shop_count.sort_values('overall_rate',ascending=False).head(200) \n",
        "\n",
        "top200_avg_products_score=top200_avg_products_score.reset_index()\n",
        "\n",
        "top200_avg_products_score"
      ],
      "metadata": {
        "colab": {
          "base_uri": "https://localhost:8080/",
          "height": 424
        },
        "id": "MZZ_Fovh4-HB",
        "outputId": "8656e2ba-8b63-4a00-c3d5-713ca388f957"
      },
      "execution_count": 39,
      "outputs": [
        {
          "output_type": "execute_result",
          "data": {
            "text/html": [
              "<div>\n",
              "<style scoped>\n",
              "    .dataframe tbody tr th:only-of-type {\n",
              "        vertical-align: middle;\n",
              "    }\n",
              "\n",
              "    .dataframe tbody tr th {\n",
              "        vertical-align: top;\n",
              "    }\n",
              "\n",
              "    .dataframe thead th {\n",
              "        text-align: right;\n",
              "    }\n",
              "</style>\n",
              "<table border=\"1\" class=\"dataframe\">\n",
              "  <thead>\n",
              "    <tr style=\"text-align: right;\">\n",
              "      <th></th>\n",
              "      <th>asin</th>\n",
              "      <th>overall_rate</th>\n",
              "    </tr>\n",
              "  </thead>\n",
              "  <tbody>\n",
              "    <tr>\n",
              "      <th>0</th>\n",
              "      <td>B00AKIPBNS</td>\n",
              "      <td>4.810624</td>\n",
              "    </tr>\n",
              "    <tr>\n",
              "      <th>1</th>\n",
              "      <td>B00DC7G0GG</td>\n",
              "      <td>4.800771</td>\n",
              "    </tr>\n",
              "    <tr>\n",
              "      <th>2</th>\n",
              "      <td>B00UG63VDG</td>\n",
              "      <td>4.800589</td>\n",
              "    </tr>\n",
              "    <tr>\n",
              "      <th>3</th>\n",
              "      <td>B0017KIBAI</td>\n",
              "      <td>4.792510</td>\n",
              "    </tr>\n",
              "    <tr>\n",
              "      <th>4</th>\n",
              "      <td>B00K848IH0</td>\n",
              "      <td>4.775845</td>\n",
              "    </tr>\n",
              "    <tr>\n",
              "      <th>...</th>\n",
              "      <td>...</td>\n",
              "      <td>...</td>\n",
              "    </tr>\n",
              "    <tr>\n",
              "      <th>195</th>\n",
              "      <td>B00BGA9YZK</td>\n",
              "      <td>4.061111</td>\n",
              "    </tr>\n",
              "    <tr>\n",
              "      <th>196</th>\n",
              "      <td>B000NUBY0C</td>\n",
              "      <td>4.043771</td>\n",
              "    </tr>\n",
              "    <tr>\n",
              "      <th>197</th>\n",
              "      <td>B018K6KV68</td>\n",
              "      <td>4.040870</td>\n",
              "    </tr>\n",
              "    <tr>\n",
              "      <th>198</th>\n",
              "      <td>B00BDS415I</td>\n",
              "      <td>4.037456</td>\n",
              "    </tr>\n",
              "    <tr>\n",
              "      <th>199</th>\n",
              "      <td>B00CX6XKK6</td>\n",
              "      <td>4.035477</td>\n",
              "    </tr>\n",
              "  </tbody>\n",
              "</table>\n",
              "<p>200 rows × 2 columns</p>\n",
              "</div>"
            ],
            "text/plain": [
              "           asin  overall_rate\n",
              "0    B00AKIPBNS      4.810624\n",
              "1    B00DC7G0GG      4.800771\n",
              "2    B00UG63VDG      4.800589\n",
              "3    B0017KIBAI      4.792510\n",
              "4    B00K848IH0      4.775845\n",
              "..          ...           ...\n",
              "195  B00BGA9YZK      4.061111\n",
              "196  B000NUBY0C      4.043771\n",
              "197  B018K6KV68      4.040870\n",
              "198  B00BDS415I      4.037456\n",
              "199  B00CX6XKK6      4.035477\n",
              "\n",
              "[200 rows x 2 columns]"
            ]
          },
          "metadata": {},
          "execution_count": 39
        }
      ]
    },
    {
      "cell_type": "code",
      "source": [
        "#Para o caso do produto pesquisado não se encontrar na matriz de similaridade podemos deixar uma lista dos 10 mais vendidos pronta para recomendar\n",
        "\n",
        "product_count=df_final.groupby(by='asin',as_index=False).agg({'verified':\"count\"}).rename(columns={'verified':'count'})\n",
        "shop_count=product_count.set_index('asin')\n",
        "\n",
        "top10_products=shop_count.sort_values('count',ascending=False).head(10)\n",
        "top10_products=top10_products.reset_index()\n",
        "\n",
        "top10_products"
      ],
      "metadata": {
        "colab": {
          "base_uri": "https://localhost:8080/",
          "height": 363
        },
        "id": "BhlWFE_Zokz3",
        "outputId": "58bc1778-994f-428a-8074-9cdccbb2d32e"
      },
      "execution_count": 40,
      "outputs": [
        {
          "output_type": "execute_result",
          "data": {
            "text/html": [
              "<div>\n",
              "<style scoped>\n",
              "    .dataframe tbody tr th:only-of-type {\n",
              "        vertical-align: middle;\n",
              "    }\n",
              "\n",
              "    .dataframe tbody tr th {\n",
              "        vertical-align: top;\n",
              "    }\n",
              "\n",
              "    .dataframe thead th {\n",
              "        text-align: right;\n",
              "    }\n",
              "</style>\n",
              "<table border=\"1\" class=\"dataframe\">\n",
              "  <thead>\n",
              "    <tr style=\"text-align: right;\">\n",
              "      <th></th>\n",
              "      <th>asin</th>\n",
              "      <th>count</th>\n",
              "    </tr>\n",
              "  </thead>\n",
              "  <tbody>\n",
              "    <tr>\n",
              "      <th>0</th>\n",
              "      <td>B00HTK1NCS</td>\n",
              "      <td>5875</td>\n",
              "    </tr>\n",
              "    <tr>\n",
              "      <th>1</th>\n",
              "      <td>B004RMK57U</td>\n",
              "      <td>4863</td>\n",
              "    </tr>\n",
              "    <tr>\n",
              "      <th>2</th>\n",
              "      <td>B00KKAQYXM</td>\n",
              "      <td>3946</td>\n",
              "    </tr>\n",
              "    <tr>\n",
              "      <th>3</th>\n",
              "      <td>B003ZSP0WW</td>\n",
              "      <td>3758</td>\n",
              "    </tr>\n",
              "    <tr>\n",
              "      <th>4</th>\n",
              "      <td>B00JJNQG98</td>\n",
              "      <td>3685</td>\n",
              "    </tr>\n",
              "    <tr>\n",
              "      <th>5</th>\n",
              "      <td>B00009OY9U</td>\n",
              "      <td>3454</td>\n",
              "    </tr>\n",
              "    <tr>\n",
              "      <th>6</th>\n",
              "      <td>B00E4MQODC</td>\n",
              "      <td>3202</td>\n",
              "    </tr>\n",
              "    <tr>\n",
              "      <th>7</th>\n",
              "      <td>B000B9RI14</td>\n",
              "      <td>3151</td>\n",
              "    </tr>\n",
              "    <tr>\n",
              "      <th>8</th>\n",
              "      <td>B00DBDPOZ4</td>\n",
              "      <td>2850</td>\n",
              "    </tr>\n",
              "    <tr>\n",
              "      <th>9</th>\n",
              "      <td>B000HZFCT2</td>\n",
              "      <td>2795</td>\n",
              "    </tr>\n",
              "  </tbody>\n",
              "</table>\n",
              "</div>"
            ],
            "text/plain": [
              "         asin  count\n",
              "0  B00HTK1NCS   5875\n",
              "1  B004RMK57U   4863\n",
              "2  B00KKAQYXM   3946\n",
              "3  B003ZSP0WW   3758\n",
              "4  B00JJNQG98   3685\n",
              "5  B00009OY9U   3454\n",
              "6  B00E4MQODC   3202\n",
              "7  B000B9RI14   3151\n",
              "8  B00DBDPOZ4   2850\n",
              "9  B000HZFCT2   2795"
            ]
          },
          "metadata": {},
          "execution_count": 40
        }
      ]
    },
    {
      "cell_type": "code",
      "source": [
        "#Para nossa matriz de similaridade vamos considerar a similaridade dos top200 produtos entre as marcas(brand)\n",
        "matriz_similaridade = df_final[df_final[\"asin\"].isin(top200_avg_products_score[\"asin\"])] \\\n",
        "  .pivot_table(index=\"asin\", columns=\"brand\", values=\"overall\").fillna(0)\n",
        "\n",
        "matriz_similaridade.shape"
      ],
      "metadata": {
        "colab": {
          "base_uri": "https://localhost:8080/"
        },
        "id": "r4rNAGeLBbDe",
        "outputId": "90f03b60-5daf-4421-beea-6d808ec26cf7"
      },
      "execution_count": 41,
      "outputs": [
        {
          "output_type": "execute_result",
          "data": {
            "text/plain": [
              "(200, 62)"
            ]
          },
          "metadata": {},
          "execution_count": 41
        }
      ]
    },
    {
      "cell_type": "code",
      "source": [
        "#Criando a matriz de similaridade\n",
        "from sklearn.metrics.pairwise import cosine_similarity\n",
        "cos_item = cosine_similarity(matriz_similaridade)\n",
        "\n",
        "print(cos_item)\n",
        "cos_item.shape"
      ],
      "metadata": {
        "colab": {
          "base_uri": "https://localhost:8080/"
        },
        "id": "SAJ-kzTuCho3",
        "outputId": "7a8bd19c-b42d-4b01-eb87-998917651f03"
      },
      "execution_count": 42,
      "outputs": [
        {
          "output_type": "stream",
          "name": "stdout",
          "text": [
            "[[1. 0. 0. ... 0. 0. 0.]\n",
            " [0. 1. 0. ... 0. 0. 0.]\n",
            " [0. 0. 1. ... 0. 0. 0.]\n",
            " ...\n",
            " [0. 0. 0. ... 1. 0. 0.]\n",
            " [0. 0. 0. ... 0. 1. 0.]\n",
            " [0. 0. 0. ... 0. 0. 1.]]\n"
          ]
        },
        {
          "output_type": "execute_result",
          "data": {
            "text/plain": [
              "(200, 200)"
            ]
          },
          "metadata": {},
          "execution_count": 42
        }
      ]
    },
    {
      "cell_type": "code",
      "source": [
        "#Função para recomendação\n",
        "def recomendar(asin):\n",
        "  print(f\"Produto observado: {asin}.\\n\")\n",
        "  try:\n",
        "    asin_select = matriz_similaridade.index.tolist().index(asin)\n",
        "    top10_recomendados = np.argsort(-cos_item[asin_select])[1:11]\n",
        "    print(f\"Retornando os 10 produtos mais similares de: {asin}.\")\n",
        "    return matriz_similaridade.index[top10_recomendados].tolist()\n",
        "  except ValueError as e:\n",
        "    print(f\"{asin}, não está incluso na matriz de recomendação. Retornando os Top10 comprados\")\n",
        "    return top10_products['asin'].tolist()"
      ],
      "metadata": {
        "id": "OQKVkkzOCnlk"
      },
      "execution_count": 43,
      "outputs": []
    },
    {
      "cell_type": "markdown",
      "source": [
        "#Testando o modelo de recomendação"
      ],
      "metadata": {
        "id": "4yRJk1LcjLeK"
      }
    },
    {
      "cell_type": "code",
      "source": [
        "asin = \"B00DC7G0GG\"\n",
        "produtos_similares = recomendar(asin)\n",
        "\n",
        "produtos_similares"
      ],
      "metadata": {
        "colab": {
          "base_uri": "https://localhost:8080/"
        },
        "id": "SBZ3oVxsCniK",
        "outputId": "4d945cb4-532c-4009-a7a2-a67279c08b82"
      },
      "execution_count": 44,
      "outputs": [
        {
          "output_type": "stream",
          "name": "stdout",
          "text": [
            "Produto observado: B00DC7G0GG.\n",
            "\n",
            "Retornando os 10 produtos mais similares de: B00DC7G0GG.\n"
          ]
        },
        {
          "output_type": "execute_result",
          "data": {
            "text/plain": [
              "['B0013E9HP6',\n",
              " 'B0017KIBAI',\n",
              " 'B00S1LRX3W',\n",
              " 'B002BRZ9G0',\n",
              " 'B002BSA3EM',\n",
              " 'B00DC7G2W8',\n",
              " 'B00MUY0OFU',\n",
              " 'B00LCHZRIK',\n",
              " 'B00L59D9HG',\n",
              " 'B0053B5RGI']"
            ]
          },
          "metadata": {},
          "execution_count": 44
        }
      ]
    },
    {
      "cell_type": "code",
      "source": [
        "asin = \"B07FFCN3DJ\"\n",
        "produtos_similares = recomendar(asin)\n",
        "\n",
        "produtos_similares"
      ],
      "metadata": {
        "colab": {
          "base_uri": "https://localhost:8080/"
        },
        "id": "2gaOd-14CnTe",
        "outputId": "7d74afbf-7677-421f-82fb-9aa5b683fe84"
      },
      "execution_count": 45,
      "outputs": [
        {
          "output_type": "stream",
          "name": "stdout",
          "text": [
            "Produto observado: B07FFCN3DJ.\n",
            "\n",
            "B07FFCN3DJ, não está incluso na matriz de recomendação. Retornando os Top10 comprados\n"
          ]
        },
        {
          "output_type": "execute_result",
          "data": {
            "text/plain": [
              "['B00HTK1NCS',\n",
              " 'B004RMK57U',\n",
              " 'B00KKAQYXM',\n",
              " 'B003ZSP0WW',\n",
              " 'B00JJNQG98',\n",
              " 'B00009OY9U',\n",
              " 'B00E4MQODC',\n",
              " 'B000B9RI14',\n",
              " 'B00DBDPOZ4',\n",
              " 'B000HZFCT2']"
            ]
          },
          "metadata": {},
          "execution_count": 45
        }
      ]
    },
    {
      "cell_type": "code",
      "source": [
        "asin = \"B01FKPC7UA\"\n",
        "produtos_similares = recomendar(asin)\n",
        "\n",
        "produtos_similares"
      ],
      "metadata": {
        "colab": {
          "base_uri": "https://localhost:8080/"
        },
        "id": "FxRQv5X5jlGl",
        "outputId": "c82839cc-4d92-4250-9ff0-342dbb8e3618"
      },
      "execution_count": 46,
      "outputs": [
        {
          "output_type": "stream",
          "name": "stdout",
          "text": [
            "Produto observado: B01FKPC7UA.\n",
            "\n",
            "B01FKPC7UA, não está incluso na matriz de recomendação. Retornando os Top10 comprados\n"
          ]
        },
        {
          "output_type": "execute_result",
          "data": {
            "text/plain": [
              "['B00HTK1NCS',\n",
              " 'B004RMK57U',\n",
              " 'B00KKAQYXM',\n",
              " 'B003ZSP0WW',\n",
              " 'B00JJNQG98',\n",
              " 'B00009OY9U',\n",
              " 'B00E4MQODC',\n",
              " 'B000B9RI14',\n",
              " 'B00DBDPOZ4',\n",
              " 'B000HZFCT2']"
            ]
          },
          "metadata": {},
          "execution_count": 46
        }
      ]
    },
    {
      "cell_type": "code",
      "source": [
        "asin = \"produto_novo\"\n",
        "produtos_similares = recomendar(asin)\n",
        "\n",
        "produtos_similares"
      ],
      "metadata": {
        "colab": {
          "base_uri": "https://localhost:8080/"
        },
        "id": "ZmYP2HJgjoOb",
        "outputId": "1ca204f5-033b-4e00-cd7d-0b121af3d215"
      },
      "execution_count": 165,
      "outputs": [
        {
          "output_type": "stream",
          "name": "stdout",
          "text": [
            "Produto observado: produto_novo.\n",
            "\n",
            "produto_novo, não está incluso na matriz de recomendação. Retornando os 10 comprados\n"
          ]
        },
        {
          "output_type": "execute_result",
          "data": {
            "text/plain": [
              "['B00HTK1NCS',\n",
              " 'B004RMK57U',\n",
              " 'B00KKAQYXM',\n",
              " 'B003ZSP0WW',\n",
              " 'B00JJNQG98',\n",
              " 'B00009OY9U',\n",
              " 'B00E4MQODC',\n",
              " 'B000B9RI14',\n",
              " 'B00DBDPOZ4',\n",
              " 'B000HZFCT2']"
            ]
          },
          "metadata": {},
          "execution_count": 165
        }
      ]
    }
  ]
}